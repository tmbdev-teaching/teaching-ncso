{
 "cells": [
  {
   "cell_type": "markdown",
   "id": "77fdeeaf",
   "metadata": {},
   "source": [
    "# Least Square Approximations Yield Posteriors"
   ]
  },
  {
   "cell_type": "markdown",
   "id": "9cef2279",
   "metadata": {},
   "source": [
    "(Significance)\n",
    "\n",
    "Our justification of MLPs has so far been mostly heuristic.\n",
    "\n",
    "However, there is a close connection with Bayesian classification.\n",
    "\n",
    "In particular, the MLP outputs approximate the posterior probability.\n",
    "\n",
    "Recall that classification with $\\arg\\max_\\omega P(\\omega|x)$ is optimal under 0-1 loss."
   ]
  },
  {
   "cell_type": "markdown",
   "id": "9d5ee452",
   "metadata": {},
   "source": [
    "(Unary Encoding of Classes)\n",
    "\n",
    "For classification problems, we encode classes using a *unary code*.\n",
    "\n",
    "That is, if the class is $i$, then the target vector is \n",
    "\n",
    "$$z_j = \\delta(i,j) = (0, ... , 0, 1, 0, ... , 0)$$\n"
   ]
  },
  {
   "cell_type": "markdown",
   "id": "5a80d3f5",
   "metadata": {},
   "source": [
    "(Criterion Function)\n",
    "\n",
    "Let $\\tilde{z} = g(x;\\theta)$ be the predicted value of the MLP (or\n",
    "classifier in general).\n",
    "\n",
    "The criterion function that we optimize is ($t$ is the target vector)\n",
    "\n",
    "$$ e = J(\\theta) = \\sum (g(x;\\theta) - t)^2$$\n",
    "\n",
    "minimizing this is equivalent to minimizing each term and each output unit."
   ]
  },
  {
   "cell_type": "markdown",
   "id": "c23c277c",
   "metadata": {},
   "source": [
    "(One Unit)\n",
    "\n",
    "Consider output unit $k$; we're minimizing\n",
    "\n",
    "$$ J_k(\\theta) = \\sum_x (g_k(x;\\theta) - t_k)^2 $$\n",
    "\n",
    "$$ ~~~~~~~~ = \\sum_{x\\in\\omega_k} (g_k(x;\\theta)-1)^2 + \\sum_{x\\not\\in\\omega_k} (g(x;w)-0)^2 $$"
   ]
  },
  {
   "cell_type": "markdown",
   "id": "a09880e8",
   "metadata": {},
   "source": [
    "(Pulling Out Factors)\n",
    "\n",
    "$$ ~~~~~~~~ = \\sum_{x\\in\\omega_k} (g_k(x;\\theta)-1)^2 + \\sum_{x\\not\\in\\omega_k} (g(x;w)-0)^2 $$\n",
    "\n",
    "let's pull out some factors\n",
    "\n",
    "$$ ~~~~~~~~ = n \\left( \\frac{n_k}{n}\\frac{1}{n_k} \\sum_{x\\in\\omega_k} (g_k(x;\\theta)-1)^2 + \\frac{n-n_k}{n}\\frac{1}{n-n_k} \\sum_{x\\not\\in\\omega_k} (g_k(x;\\theta) - 0)^2 \\right)$$"
   ]
  },
  {
   "cell_type": "markdown",
   "id": "f663e8b8",
   "metadata": {},
   "source": [
    "(Limit)\n",
    "\n",
    "Let us now consider the limit as $n\\rightarrow\\infty$; then\n",
    "\n",
    "$$ \\frac{n_k}{n} \\rightarrow P(\\omega_k) $$\n",
    "\n",
    "$$ \\frac{n-n_k}{n} \\rightarrow P(\\omega^c_k) $$"
   ]
  },
  {
   "cell_type": "markdown",
   "id": "13873d8b",
   "metadata": {},
   "source": [
    "(Sums to Integrals)\n",
    "\n",
    "In the limit, sums over random samples turn into integrals:\n",
    "\n",
    "$${\\frac{1}{N}\\sum_{x_i\\tilde\\; p(x_i)} f(x_i)} \\rightarrow {\\int f(x) p(x) dx} $$"
   ]
  },
  {
   "cell_type": "markdown",
   "id": "4798b100",
   "metadata": {},
   "source": [
    "(Sampled Sums to Integrals)\n",
    "\n",
    "The remaining sums converge to the corresponding integrals in the following equation:\n",
    "\n",
    "$$\\lim_{n\\rightarrow\\infty} \\frac{1}{n} J_k(\\theta) $$\n",
    "$$ ~~~~~~~~ = P(\\omega_k) \\int (g_k(x;\\theta)-1)^2 p(x|\\omega_k) dx + P(\\omega_k^c) \\int g_k^2(x;\\theta) p(x|\\omega_k^c) dx$$\n",
    "...\n",
    "$$ ~~~~~~~~ = \\int g_k^2(x;\\theta) p(x) dx - 2 \\int g_k(x;\\theta) p(x,\\omega_k) dx + \\int p(x,\\omega_k) dx $$\n",
    "$$ ~~~~~~~~ = \\int [ g_k(x;\\theta)-P(\\omega_k|x) ]^2 p(x) dx + \\int P(\\omega_k|x) P(\\omega_k^c|x) p(x) dx $$\n",
    "\n",
    "the second term is independent of $\\theta$."
   ]
  },
  {
   "cell_type": "markdown",
   "id": "5b71b183",
   "metadata": {},
   "source": [
    "(Term-wise minimization)\n",
    "\n",
    "Therefore, least square minimization minimizes\n",
    "\n",
    "$$ \\int [g_k(x;\\theta) - P(\\omega_k|x)]^2 p(x) dx $$\n",
    "\n",
    "This is minimized for each term,\n",
    "therefore $g_k(x;\\theta) \\approx P(\\omega_k|x)$ asymptotically"
   ]
  },
  {
   "cell_type": "markdown",
   "id": "18b2ba68",
   "metadata": {},
   "source": [
    "(Notes)\n",
    "\n",
    "- this relationship is true only asymptotically\n",
    "- the sum of the network outputs is not necessarily $1$\n",
    "- if the sum of the network outputs differs substantially from $1$, that's an indication that the pattern is outside the domain over which the network predicts probabilities well\n",
    "\n",
    "An alternative approach is to use *softmax*. In softmax, the output transfer function\n",
    "is replaced by $e^{By+b}$, and the actual output of the network is computed as the ratio of the output divided by the sum of all the outputs"
   ]
  },
  {
   "cell_type": "markdown",
   "id": "5d27d7a8",
   "metadata": {},
   "source": [
    "Simple Demonstration with Gaussians\n",
    "===================================="
   ]
  },
  {
   "cell_type": "code",
   "execution_count": 1,
   "id": "8f55ca5a",
   "metadata": {
    "collapsed": true
   },
   "outputs": [],
   "source": [
    "from pylab import *\n",
    "from scipy.stats import norm"
   ]
  },
  {
   "cell_type": "markdown",
   "id": "130ded26",
   "metadata": {},
   "source": [
    "Let's consider a very simple, 1D classification problem.\n",
    "Our class-conditional densities $p(x|c)$ are normally\n",
    "distributed with means 0 and 1.\n",
    "We can calculate and plot the exact posterior directly."
   ]
  },
  {
   "cell_type": "code",
   "execution_count": 2,
   "id": "c7555a66",
   "metadata": {
    "collapsed": false
   },
   "outputs": [
    {
     "data": {
      "text/plain": [
       "[<matplotlib.lines.Line2D at 0x2d24ed0>]"
      ]
     },
     "execution_count": 2,
     "metadata": {},
     "output_type": "execute_result"
    },
    {
     "data": {
      "image/png": "[encoded data removed]"
     },
     "metadata": {},
     "output_type": "display_data"
    }
   ],
   "source": [
    "lxs = linspace(-4,5,1000)\n",
    "ys0 = norm.pdf(lxs); ys0 /= amax(ys0)\n",
    "plot(lxs,ys0)\n",
    "ys1 = norm.pdf(lxs,loc=2); ys1 /= amax(ys1)\n",
    "plot(lxs,ys1)\n",
    "posterior = ys1/(ys0+ys1)\n",
    "plot(lxs,ys1/(ys0+ys1))"
   ]
  },
  {
   "cell_type": "markdown",
   "id": "50020d18",
   "metadata": {},
   "source": [
    "Now we take 100 samples from each class conditional density.\n",
    "These are the training samples for our classifier."
   ]
  },
  {
   "cell_type": "code",
   "execution_count": 3,
   "id": "9d5cb485",
   "metadata": {
    "collapsed": true
   },
   "outputs": [],
   "source": [
    "samples0 = norm.rvs(size=100)\n",
    "samples1 = norm.rvs(size=100,loc=2)"
   ]
  },
  {
   "cell_type": "code",
   "execution_count": 4,
   "id": "3a05420a",
   "metadata": {
    "collapsed": false
   },
   "outputs": [
    {
     "data": {
      "image/png": "[encoded data removed]"
     },
     "metadata": {},
     "output_type": "display_data"
    }
   ],
   "source": [
    "_=hist([samples0,samples1])"
   ]
  },
  {
   "cell_type": "markdown",
   "id": "d2638081",
   "metadata": {},
   "source": [
    "Posteriors by Histogramming\n",
    "----------------------------\n",
    "\n",
    "We can compute the posteriors by binning and histogramming\n",
    "(this has nothing to do with the proof above, but it\n",
    "just is an illustration of the computation of posteriors).\n",
    "In the 1D case, this actually often works quite well."
   ]
  },
  {
   "cell_type": "code",
   "execution_count": 5,
   "id": "a7fcc4f5",
   "metadata": {
    "collapsed": false
   },
   "outputs": [
    {
     "data": {
      "text/plain": [
       "[<matplotlib.lines.Line2D at 0x2c2dfd0>]"
      ]
     },
     "execution_count": 5,
     "metadata": {},
     "output_type": "execute_result"
    },
    {
     "data": {
      "image/png": "[encoded data removed]"
     },
     "metadata": {},
     "output_type": "display_data"
    }
   ],
   "source": [
    "xs = []\n",
    "ys = []\n",
    "for x in range(-5,5):\n",
    "    y0 = sum(floor(samples0)==x)\n",
    "    y1 = sum(floor(samples1)==x)\n",
    "    xs.append(x+0.5)\n",
    "    ys.append(y1*1.0/max(1.0,y0+y1))\n",
    "plot(xs,ys)\n",
    "plot(lxs,posterior,color='r')"
   ]
  },
  {
   "cell_type": "markdown",
   "id": "8e20fb14",
   "metadata": {},
   "source": [
    "Least Square Fit with a Polynomial\n",
    "----------------------------------\n",
    "\n",
    "Let's try a simple least square fit, with a polynomial.\n",
    "Before we do that, let's look at the function we're actually\n",
    "trying to approximate.\n",
    "From a least square fitting point of view, this function\n",
    "looks rather odd."
   ]
  },
  {
   "cell_type": "code",
   "execution_count": 9,
   "id": "7ce559d7",
   "metadata": {
    "collapsed": false
   },
   "outputs": [
    {
     "data": {
      "text/plain": [
       "[<matplotlib.lines.Line2D at 0x3269210>]"
      ]
     },
     "execution_count": 9,
     "metadata": {},
     "output_type": "execute_result"
    },
    {
     "data": {
      "image/png": "[encoded data removed]"
     },
     "metadata": {},
     "output_type": "display_data"
    }
   ],
   "source": [
    "data = c_[r_[samples0,samples1],r_[zeros(len(samples0)),ones(len(samples1))]]\n",
    "order = argsort(data[:,0])\n",
    "s = data[order,:]\n",
    "ylim(-0.1,1.1)\n",
    "plot(s[:,0],s[:,1])"
   ]
  },
  {
   "cell_type": "markdown",
   "id": "d47249cf",
   "metadata": {},
   "source": [
    "We can use the function `polyfit` to perform polynomial fitting."
   ]
  },
  {
   "cell_type": "code",
   "execution_count": 10,
   "id": "01ef4a88",
   "metadata": {
    "collapsed": false
   },
   "outputs": [
    {
     "data": {
      "text/plain": [
       "[<matplotlib.lines.Line2D at 0x2e35c50>]"
      ]
     },
     "execution_count": 10,
     "metadata": {},
     "output_type": "execute_result"
    },
    {
     "data": {
      "image/png": "[encoded data removed]"
     },
     "metadata": {},
     "output_type": "display_data"
    }
   ],
   "source": [
    "fit = polyfit(data[:,0],data[:,1],5)\n",
    "plot(lxs,polyval(fit,lxs))\n",
    "plot(lxs,posterior,color='r')"
   ]
  },
  {
   "cell_type": "markdown",
   "id": "aa754449",
   "metadata": {},
   "source": [
    "The fit actually approximates the data fairly well over the range where we have data points.\n",
    "\n",
    "This looks even better if we clip the output values."
   ]
  },
  {
   "cell_type": "code",
   "execution_count": 11,
   "id": "1ae6ee6b",
   "metadata": {
    "collapsed": false
   },
   "outputs": [
    {
     "data": {
      "text/plain": [
       "[<matplotlib.lines.Line2D at 0x2e4c3d0>]"
      ]
     },
     "execution_count": 11,
     "metadata": {},
     "output_type": "execute_result"
    },
    {
     "data": {
      "image/png": "[encoded data removed]"
     },
     "metadata": {},
     "output_type": "display_data"
    }
   ],
   "source": [
    "plot(lxs,clip(polyval(fit,lxs),0,1))\n",
    "plot(lxs,posterior,color='r')"
   ]
  },
  {
   "cell_type": "markdown",
   "id": "c0f6c8f3",
   "metadata": {},
   "source": [
    "Linear Least Square\n",
    "-------------------\n",
    "\n",
    "For comparison, let's also look at a simple linear fit."
   ]
  },
  {
   "cell_type": "code",
   "execution_count": 12,
   "id": "b51854e9",
   "metadata": {
    "collapsed": false
   },
   "outputs": [
    {
     "data": {
      "text/plain": [
       "[<matplotlib.lines.Line2D at 0x38c1d50>]"
      ]
     },
     "execution_count": 12,
     "metadata": {},
     "output_type": "execute_result"
    },
    {
     "data": {
      "image/png": "[encoded data removed]"
     },
     "metadata": {},
     "output_type": "display_data"
    }
   ],
   "source": [
    "data = r_[c_[samples0,zeros(100)],c_[samples1,ones(100)]]\n",
    "fit = polyfit(data[:,0],data[:,1],1)\n",
    "plot(lxs,polyval(fit,lxs))\n",
    "plot(lxs,posterior,color='r')"
   ]
  },
  {
   "cell_type": "markdown",
   "id": "5b929385",
   "metadata": {},
   "source": [
    "Note that these kinds of linear fits are very sensitive\n",
    "to outliers. \n",
    "We add two data points that ought to be really easy\n",
    "to classify, and they completely change the approximation\n",
    "to the posterior."
   ]
  },
  {
   "cell_type": "code",
   "execution_count": 13,
   "id": "b784ce93",
   "metadata": {
    "collapsed": false
   },
   "outputs": [
    {
     "data": {
      "text/plain": [
       "[<matplotlib.lines.Line2D at 0x3c3bd10>]"
      ]
     },
     "execution_count": 13,
     "metadata": {},
     "output_type": "execute_result"
    },
    {
     "data": {
      "image/png": "[encoded data removed]"
     },
     "metadata": {},
     "output_type": "display_data"
    }
   ],
   "source": [
    "data1 = data.copy()\n",
    "data1[0,:] = array([-100,0])\n",
    "data1[-1,:] = array([100,1])\n",
    "fit = polyfit(data1[:,0],data1[:,1],1)\n",
    "plot(lxs,polyval(fit,lxs))\n",
    "plot(lxs,posterior,color='r')"
   ]
  },
  {
   "cell_type": "markdown",
   "id": "7f5cb08e",
   "metadata": {},
   "source": [
    "Logistic Regression\n",
    "--------------------"
   ]
  },
  {
   "cell_type": "markdown",
   "id": "f0435e76",
   "metadata": {},
   "source": [
    "Logistic regression is a much better fit."
   ]
  },
  {
   "cell_type": "code",
   "execution_count": 14,
   "id": "5dc20e14",
   "metadata": {
    "collapsed": false
   },
   "outputs": [
    {
     "data": {
      "text/plain": [
       "[<matplotlib.lines.Line2D at 0x3f4edd0>]"
      ]
     },
     "execution_count": 14,
     "metadata": {},
     "output_type": "execute_result"
    },
    {
     "data": {
      "image/png": "[encoded data removed]"
     },
     "metadata": {},
     "output_type": "display_data"
    }
   ],
   "source": [
    "from sklearn import linear_model\n",
    "lr = linear_model.LogisticRegression()\n",
    "lr.fit(data[:,0].reshape(200,1),data[:,1])\n",
    "plot(lxs,lr.predict_proba(lxs.reshape(1000,1))[:,1])\n",
    "plot(lxs,posterior,color='r')"
   ]
  },
  {
   "cell_type": "markdown",
   "id": "f9043fe4",
   "metadata": {},
   "source": [
    "Note that logistic regression is not influenced by outliers\n",
    "in the same way as linear least squares.\n",
    "That's because the derivative of the sigmoid is nearly zero\n",
    "for points that are correctly classified but far from the\n",
    "decision boundary."
   ]
  },
  {
   "cell_type": "code",
   "execution_count": 15,
   "id": "2e5d74ab",
   "metadata": {
    "collapsed": false
   },
   "outputs": [
    {
     "data": {
      "text/plain": [
       "[<matplotlib.lines.Line2D at 0x3c34890>]"
      ]
     },
     "execution_count": 15,
     "metadata": {},
     "output_type": "execute_result"
    },
    {
     "data": {
      "image/png": "[encoded data removed]"
     },
     "metadata": {},
     "output_type": "display_data"
    }
   ],
   "source": [
    "lr = linear_model.LogisticRegression()\n",
    "lr.fit(data1[:,0].reshape(200,1),data1[:,1])\n",
    "plot(lxs,lr.predict_proba(lxs.reshape(1000,1))[:,1])\n",
    "plot(lxs,posterior,color='r')"
   ]
  },
  {
   "cell_type": "markdown",
   "id": "0be2b5aa",
   "metadata": {},
   "source": [
    "**Homework** Given class conditional densities $p(x|c)$ for $c\\in\\\\{0,1\\\\}$\n",
    "that are normal densities\n",
    "with means 0 and $\\mu$ and\n",
    "a standard deviation $\\sigma=1$, compute the posterior probability\n",
    "$P(c=1|x)$."
   ]
  },
  {
   "cell_type": "markdown",
   "id": "fc9e7249",
   "metadata": {},
   "source": [
    "Least Squares with Kernel Functions\n",
    "-----------------------------------"
   ]
  },
  {
   "cell_type": "markdown",
   "id": "ffc0e840",
   "metadata": {},
   "source": [
    "(Nonlinear Approximations to the Posterior)\n",
    "\n",
    "We are trying to predict a non-linear function $y = f(x)$.\n",
    "\n",
    "We have tried different approximations:\n",
    "\n",
    "- A linear fit: $y = mx+b$\n",
    "- A polynomial fit: $y = ax^5 + bx^4 + cx^3 + dx^2 + ex + f$\n",
    "- Logistic regression: $y = \\sigma(mx + b)$"
   ]
  },
  {
   "cell_type": "markdown",
   "id": "47a7aa8a",
   "metadata": {},
   "source": [
    "(Generalization)\n",
    "\n",
    "Note that the polynomial fit is really just a multidimensional\n",
    "linear fit to a bunch of non-linear functions of the input.\n",
    "We can generalize this approach to a generalized linear fit\n",
    "(note that we can choose $\\phi_r(x) = 1$ to handle the constant term).\n",
    "\n",
    "$y = w_1 \\phi_1(x) + w_2 \\phi_2(x) + ... + w_r \\phi_r(x)$\n",
    "\n",
    "A common choice for the $\\phi_i$ is the use of a kernel, \n",
    "a single non-linear function that is shifted around:\n",
    "\n",
    "$y = w_1 \\phi(x-\\mu_1) + ... + w_r \\phi(x-\\mu_r) $"
   ]
  },
  {
   "cell_type": "markdown",
   "id": "db7965b2",
   "metadata": {},
   "source": [
    "(Gaussian Kernels)\n",
    "\n",
    "And a particularly common choice for the $\\phi$ is Gaussian functions,\n",
    "$\\phi(x) = e^{-\\frac{x^2}{2\\sigma^2}}$\n",
    "\n",
    "This kind of representation forms the basis of *support\n",
    "vector* machines.  Support vector machines (or kernel machines)\n",
    "effectively also perform a fit to the data points, just like\n",
    "least square methods, but using a different loss function (hinge loss).\n",
    "\n",
    "To perform a least square fit, we first take the original data\n",
    "$(x_i,y_i)$, transform it by computing the $\\phi_r$ functions,\n",
    "and then performing a linear fit on the outputs."
   ]
  },
  {
   "cell_type": "markdown",
   "id": "ff91cef8",
   "metadata": {},
   "source": [
    "Let's start by sorting the data by its $x$ coordinate;\n",
    "that helps with plotting later (it has no influence on the fit).\n",
    "\n"
   ]
  },
  {
   "cell_type": "code",
   "execution_count": 16,
   "id": "d9091fed",
   "metadata": {
    "collapsed": true
   },
   "outputs": [],
   "source": [
    "data = data[argsort(data[:,0]),:]"
   ]
  },
  {
   "cell_type": "markdown",
   "id": "84490a7b",
   "metadata": {},
   "source": [
    "A Gaussian kernel with a smallish $\\sigma$ is given by this function.\n",
    "\n"
   ]
  },
  {
   "cell_type": "code",
   "execution_count": 17,
   "id": "c791d576",
   "metadata": {
    "collapsed": true
   },
   "outputs": [],
   "source": [
    "def K(x,mu): return exp(-(x-mu)**2/0.2)"
   ]
  },
  {
   "cell_type": "markdown",
   "id": "5698c72f",
   "metadata": {},
   "source": [
    "Now we define a function that computes all the $\\phi_r$ for a given\n",
    "input $x$.\n",
    "We can view this as a kind of ``feature extraction'',\n",
    "a preprocessing of the data that helps with classification.\n",
    "\n"
   ]
  },
  {
   "cell_type": "code",
   "execution_count": 18,
   "id": "e6e67cf9",
   "metadata": {
    "collapsed": true
   },
   "outputs": [],
   "source": [
    "def Kv(x): return array([K(x,mu) for mu in linspace(-2,3,11)])"
   ]
  },
  {
   "cell_type": "markdown",
   "id": "3e8be02f",
   "metadata": {},
   "source": [
    "To perform the linear fit, we first need to transform all the data points\n",
    "in the training set.\n",
    "\n"
   ]
  },
  {
   "cell_type": "code",
   "execution_count": 19,
   "id": "b487b8d5",
   "metadata": {
    "collapsed": true
   },
   "outputs": [],
   "source": [
    "zs = array([Kv(x) for x in data[:,0]])"
   ]
  },
  {
   "cell_type": "markdown",
   "id": "94e97823",
   "metadata": {},
   "source": [
    "To make sure that this worked as expected, let's plot\n",
    "the output of $\\phi_5(x_i)$ against the $x_i$.\n",
    "\n"
   ]
  },
  {
   "cell_type": "code",
   "execution_count": 20,
   "id": "7b0440f2",
   "metadata": {
    "collapsed": false
   },
   "outputs": [
    {
     "data": {
      "text/plain": [
       "[<matplotlib.lines.Line2D at 0x43d2d10>]"
      ]
     },
     "execution_count": 20,
     "metadata": {},
     "output_type": "execute_result"
    },
    {
     "data": {
      "image/png": "[encoded data removed]"
     },
     "metadata": {},
     "output_type": "display_data"
    }
   ],
   "source": [
    "plot(data[:,0],zs[:,5])"
   ]
  },
  {
   "cell_type": "markdown",
   "id": "32a4bc8c",
   "metadata": {},
   "source": [
    "We can perform the least square fit with a pseudo-inverse:\n",
    "\n",
    "$$w = Z^\\dagger \\cdot y$$\n",
    "\n",
    "Here, $Z$ is the transformed data matrix,\n",
    "$y$ is the desired outputs,\n",
    "and $M^\\dagger$ is the pseudo-inverse of the matrix.\n",
    "\n"
   ]
  },
  {
   "cell_type": "code",
   "execution_count": 21,
   "id": "e6581fb4",
   "metadata": {
    "collapsed": false
   },
   "outputs": [
    {
     "data": {
      "text/plain": [
       "array([ 0.04377891, -0.06688098,  0.08231902,  0.03663106,  0.01220642,\n",
       "        0.05338284,  0.46667431,  0.34844818,  0.70233284,  0.31302812,\n",
       "        1.06082602])"
      ]
     },
     "execution_count": 21,
     "metadata": {},
     "output_type": "execute_result"
    }
   ],
   "source": [
    "w = dot(pinv(zs),data[:,1].reshape(200,1)).ravel()\n",
    "w"
   ]
  },
  {
   "cell_type": "markdown",
   "id": "09e78a63",
   "metadata": {},
   "source": [
    "We can now compute the prediction of this least square approximation\n",
    "and compare it with the true posterior.\n",
    "\n"
   ]
  },
  {
   "cell_type": "code",
   "execution_count": 22,
   "id": "4c92293e",
   "metadata": {
    "collapsed": false
   },
   "outputs": [
    {
     "data": {
      "text/plain": [
       "[<matplotlib.lines.Line2D at 0x43c39d0>]"
      ]
     },
     "execution_count": 22,
     "metadata": {},
     "output_type": "execute_result"
    },
    {
     "data": {
      "image/png": "[encoded data removed]"
     },
     "metadata": {},
     "output_type": "display_data"
    }
   ],
   "source": [
    "plot(lxs,[dot(w,Kv(x)) for x in lxs])\n",
    "plot(lxs,posterior,color='r')\n",
    "\n"
   ]
  },
  {
   "cell_type": "markdown",
   "id": "49005aa2",
   "metadata": {},
   "source": [
    "As you can see, the fit works OK.  The fact that it is near zero \n",
    "again above $x=4$ is just a consequence of the fact that we have no data there."
   ]
  },
  {
   "cell_type": "markdown",
   "id": "136de8de",
   "metadata": {},
   "source": [
    "These kinds of fits can be tricky, though.  For example, if\n",
    "we add another $\\phi_r$ centered in a region where there is no data,\n",
    "then the weight $w_r$ is adjusted based on the tail of that\n",
    "Gaussian, leading to an unreasonable posterior.\n",
    "\n"
   ]
  },
  {
   "cell_type": "code",
   "execution_count": 25,
   "id": "29b5b093",
   "metadata": {
    "collapsed": false
   },
   "outputs": [
    {
     "data": {
      "text/plain": [
       "[<matplotlib.lines.Line2D at 0x4675750>]"
      ]
     },
     "execution_count": 25,
     "metadata": {},
     "output_type": "execute_result"
    },
    {
     "data": {
      "image/png": "[encoded data removed]"
     },
     "metadata": {},
     "output_type": "display_data"
    }
   ],
   "source": [
    "def Kv(x): return array([K(x,mu) for mu in linspace(-3.5,3,11)])\n",
    "zs = array([Kv(x) for x in data[:,0]])\n",
    "w = dot(pinv(zs),data[:,1].reshape(200,1)).ravel()\n",
    "plot(lxs,[dot(w,Kv(x)) for x in lxs])\n",
    "plot(lxs,posterior,color='r')"
   ]
  },
  {
   "cell_type": "markdown",
   "id": "80bea776",
   "metadata": {},
   "source": [
    "This means that it is prudent to pick values for the $\\mu_i$ that are close\n",
    "to the decision boundary, since using $\\mu_i$ centered on outliers may give\n",
    "rise to bad generalization.\n",
    "\n",
    "This is, in effect, what support vector machines are trying to do (among\n",
    "other things)."
   ]
  },
  {
   "cell_type": "code",
   "execution_count": 23,
   "id": "d559763b",
   "metadata": {
    "collapsed": true
   },
   "outputs": [],
   "source": []
  },
  {
   "cell_type": "code",
   "execution_count": null,
   "id": "98cf5f58",
   "metadata": {
    "collapsed": false
   },
   "outputs": [],
   "source": []
  }
 ],
 "metadata": {},
 "nbformat": 4,
 "nbformat_minor": 5
}

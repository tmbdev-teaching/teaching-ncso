{
 "cells": [
  {
   "cell_type": "markdown",
   "id": "3cf2db77",
   "metadata": {},
   "source": [
    "Title: EM on 1D Mixture Densities\n",
    "Author: Thomas Breuel\n",
    "Institution: UniKL"
   ]
  },
  {
   "cell_type": "code",
   "execution_count": 2,
   "id": "5f103f05",
   "metadata": {
    "collapsed": true
   },
   "outputs": [],
   "source": [
    "\n",
    "import pylab\n",
    "from pylab import *\n",
    "from scipy import random\n",
    "from scipy.stats import distributions"
   ]
  },
  {
   "cell_type": "markdown",
   "id": "ddd01513",
   "metadata": {},
   "source": [
    "# Expectation Maximization for Mixture Densities"
   ]
  },
  {
   "cell_type": "markdown",
   "id": "50242a18",
   "metadata": {},
   "source": [
    "The EM algorithm is a common algorithm used for estimating mixture\n",
    "densities.\n",
    "More generally, it is used in which estimating something requires\n",
    "some \"hidden\" variables that we can't observe.\n",
    "The idea is that we start with a guess for the hidden variables,\n",
    "perform our estimate, and then use the estimate itself to update\n",
    "the hidden variables."
   ]
  },
  {
   "cell_type": "markdown",
   "id": "1b403f67",
   "metadata": {},
   "source": [
    "Let's start by generating a mixture distribution. \n",
    "\n",
    "We have two component mixtures, one with a mean of 0 and variance of 1, the other with a mean of 5 and variance of 4.  The first mixture component is chosen with probability 0.3, the second with probability 0.7.\n",
    "\n"
   ]
  },
  {
   "cell_type": "code",
   "execution_count": 3,
   "id": "a7611520",
   "metadata": {
    "collapsed": true
   },
   "outputs": [],
   "source": [
    "data1 = random.normal(loc=0.0,scale=1.0,size=3000)\n",
    "data2 = random.normal(loc=5.0,scale=2.0,size=7000)\n",
    "data = concatenate((data1,data2))\n",
    "random.shuffle(data)\n",
    "n = len(data)"
   ]
  },
  {
   "cell_type": "markdown",
   "id": "5c4f001d",
   "metadata": {},
   "source": [
    "The mixture density has the form:\n",
    "\n",
    "$$ p(x) = p_0 {\\cal N}(x;\\mu_0,\\sigma^2_0) + p_1 {\\cal N}(x;\\mu_1,\\sigma^2_1) $$"
   ]
  },
  {
   "cell_type": "code",
   "execution_count": 4,
   "id": "d01eef5c",
   "metadata": {
    "collapsed": false
   },
   "outputs": [
    {
     "data": {
      "image/png": "[encoded data removed]"
     },
     "metadata": {},
     "output_type": "display_data"
    }
   ],
   "source": [
    "_=hist(data,bins=100)"
   ]
  },
  {
   "cell_type": "markdown",
   "id": "021b5e81",
   "metadata": {},
   "source": [
    "We need the formula for the normal density.\n",
    "\n"
   ]
  },
  {
   "cell_type": "code",
   "execution_count": 5,
   "id": "ee7915fc",
   "metadata": {
    "collapsed": true
   },
   "outputs": [],
   "source": [
    "def normal(x,params):\n",
    "    mu = params[0]\n",
    "    var = params[1]\n",
    "    return exp(-(x-mu)**2/(2*var))/sqrt(2*pi*var)"
   ]
  },
  {
   "cell_type": "markdown",
   "id": "a652418b",
   "metadata": {},
   "source": [
    "Let's pretend we already know the solution parameters $\\theta$ approximately.\n",
    "These parameters are the means and variances of each mixture component.\n",
    "We represent them as a matrix $\\theta = {{\\mu_0 \\sigma^2_0}\\choose{\\mu_1 \\sigma^2_1}}$.\n",
    "Let's pretend we also know the probabilities of the mixture components $a = (p_0,p_1)$.\n",
    "\n"
   ]
  },
  {
   "cell_type": "code",
   "execution_count": 6,
   "id": "7c719248",
   "metadata": {
    "collapsed": true
   },
   "outputs": [],
   "source": [
    "thetas = array([[0.0,1.0],[1.0,1.0]])\n",
    "mixes = array([0.5,0.5])"
   ]
  },
  {
   "cell_type": "markdown",
   "id": "781ba24f",
   "metadata": {},
   "source": [
    "Assuming these parameters are correct, we can compute the probabilities that each of our data samples comes from mixture component 0 or mixture component 1.  This is a simple application of Bayes formula:\n",
    "\n",
    "$$p(c|x) = \\frac{p(x|c) p(c)}{p(x)}$$\n",
    "\n",
    "Of course, we don't actually know the precise distributions, so we just estimate these:\n",
    "\n",
    "$$ \\hat{y}_{i,j} = p(c=i|x_j) $$\n",
    "\n",
    "This is called the expectation step of the EM algorithm. \n",
    "\n",
    "The reason is that the true membership variables $y_{i,j}$ are unknown to us and unobservable, and we compute their expectation based on the current parameter estimates."
   ]
  },
  {
   "cell_type": "code",
   "execution_count": 7,
   "id": "7019392d",
   "metadata": {
    "collapsed": false
   },
   "outputs": [
    {
     "data": {
      "text/plain": [
       "array([[ 0.01558392,  0.00131541,  0.04342912,  0.00378512,  0.07296195],\n",
       "       [ 0.98441608,  0.99868459,  0.95657088,  0.99621488,  0.92703805]])"
      ]
     },
     "execution_count": 7,
     "metadata": {},
     "output_type": "execute_result"
    }
   ],
   "source": [
    "ys = zeros((2,n))\n",
    "for i in range(2):\n",
    "    for j in range(n):\n",
    "        ys[i,j] = mixes[i]*normal(data[j],thetas[i])\n",
    "ys /= sum(ys,axis=0)[newaxis,:]\n",
    "ys[:,:5]"
   ]
  },
  {
   "cell_type": "markdown",
   "id": "e430b065",
   "metadata": {},
   "source": [
    "Based on this, we can compute new estimates of the prior probability of each mixture component. \n",
    "\n",
    "If we knew the precise densities, this would be:\n",
    "\n",
    "$$ p(c) = \\int p(c|x) p(x) dx $$\n",
    "\n",
    "However, since we don't, we just estimate is as:\n",
    "\n",
    "$$ \\hat{p}_i = \\frac{1}{n} \\sum p(c=i|x_j) $$"
   ]
  },
  {
   "cell_type": "code",
   "execution_count": 8,
   "id": "7d0a6791",
   "metadata": {
    "collapsed": false
   },
   "outputs": [
    {
     "data": {
      "text/plain": [
       "array([ 0.21702,  0.78298])"
      ]
     },
     "execution_count": 8,
     "metadata": {},
     "output_type": "execute_result"
    }
   ],
   "source": [
    "mixes = sum(ys,axis=1)/n\n",
    "mixes"
   ]
  },
  {
   "cell_type": "markdown",
   "id": "d947263a",
   "metadata": {},
   "source": [
    "Now we compute estimates of the means and covariances.\n",
    "Here, we use an apportionment variable $y_{i,j}$ to weight the mixture components.\n",
    "Generally, $y_{i,j} = \\hat{p}(c=i|x_j)$, but other choices are possible.\n",
    "\n",
    "$$\\hat{\\mu}_i = \\frac{\\sum_j \\hat{y}_{i,j} x_j}{\\sum_j \\hat{y}_{i,j}}$$\n",
    "\n",
    "$$\\hat{\\sigma}^2_i = \\frac{\\sum_j \\hat{y}_{i,j} x_j^2}{\\sum_j \\hat{y}_{i,j}} - \\mu^2_i$$\n",
    "\n",
    "This step is called the maximization step of the EM algorithm. \n",
    "\n",
    "It may not look like much of a \"maximization\", but what we are doing is computing maximum likelihood estimates of $\\mu_i$ and $\\sigma^2_i$.  We just happen to have a closed-form expression for the maximization step."
   ]
  },
  {
   "cell_type": "code",
   "execution_count": 9,
   "id": "de640e0c",
   "metadata": {
    "collapsed": false
   },
   "outputs": [
    {
     "name": "stdout",
     "output_type": "stream",
     "text": [
      "-0.0068905665568 4.42414254987\n"
     ]
    }
   ],
   "source": [
    "mu0 = sum(data*ys[0])/sum(ys[0])\n",
    "mu1 = sum(data*ys[1])/sum(ys[1])\n",
    "print mu0,mu1"
   ]
  },
  {
   "cell_type": "markdown",
   "id": "e14a3819",
   "metadata": {},
   "source": [
    "As we can see, the estimates for the mean have already improved significantly (from 0 and 1 to about 0 and 4)."
   ]
  },
  {
   "cell_type": "code",
   "execution_count": 10,
   "id": "8e11f081",
   "metadata": {
    "collapsed": false
   },
   "outputs": [
    {
     "name": "stdout",
     "output_type": "stream",
     "text": [
      "1.89860516759 5.89413266158\n"
     ]
    }
   ],
   "source": [
    "var0 = sum(data**2 * ys[0])/sum(ys[0]) - mu0**2\n",
    "var1 = sum(data**2 * ys[1])/sum(ys[1]) - mu1**2\n",
    "print var0,var1"
   ]
  },
  {
   "cell_type": "markdown",
   "id": "0a02eacf",
   "metadata": {},
   "source": [
    "The variance estimates have also improved significantly."
   ]
  },
  {
   "cell_type": "code",
   "execution_count": 11,
   "id": "3c7f251d",
   "metadata": {
    "collapsed": true
   },
   "outputs": [],
   "source": [
    "thetas = array([[mu0,var0],[mu1,var1]])"
   ]
  },
  {
   "cell_type": "markdown",
   "id": "f04982f1",
   "metadata": {},
   "source": [
    "Let's just wrap up the entire procedure and iterate it multiple times."
   ]
  },
  {
   "cell_type": "code",
   "execution_count": 12,
   "id": "b36a6748",
   "metadata": {
    "collapsed": true
   },
   "outputs": [],
   "source": [
    "def expectation_maximization(data):\n",
    "    thetas = array([[0.0,1.0],[1.0,1.0]])\n",
    "    mixes = array([0.5,0.5])\n",
    "    for iter in range(100):\n",
    "        ys = zeros((2,n))\n",
    "        for i in range(2):\n",
    "            for j in range(n):\n",
    "                ys[i,j] = mixes[i]*normal(data[j],thetas[i])\n",
    "        ys /= sum(ys,axis=0)[newaxis,:]\n",
    "        mixes = sum(ys,axis=1)/n\n",
    "        mu0 = sum(data*ys[0])/sum(ys[0])\n",
    "        mu1 = sum(data*ys[1])/sum(ys[1])\n",
    "        var0 = sum(data**2 * ys[0])/sum(ys[0]) - mu0**2\n",
    "        var1 = sum(data**2 * ys[1])/sum(ys[1]) - mu1**2\n",
    "        thetas = array([[mu0,var0],[mu1,var1]])\n",
    "        if iter%10==0:\n",
    "            print \"===\",iter,\"===\"\n",
    "            print mixes\n",
    "            print thetas\n",
    "    return mixes,thetas"
   ]
  },
  {
   "cell_type": "code",
   "execution_count": 18,
   "id": "a22602e7",
   "metadata": {
    "collapsed": false
   },
   "outputs": [
    {
     "name": "stdout",
     "output_type": "stream",
     "text": [
      "=== 0 ===\n",
      "[ 0.21702  0.78298]\n",
      "[[-0.00689057  1.89860517]\n",
      " [ 4.42414255  5.89413266]]\n",
      "=== 10 ===\n",
      "[ 0.28830675  0.71169325]\n",
      "[[-0.09149176  0.98637995]\n",
      " [ 4.90224883  4.16203697]]\n",
      "=== 20 ===\n",
      "[ 0.30129653  0.69870347]\n",
      "[[-0.03876513  1.05305054]\n",
      " [ 4.97235189  3.94967901]]\n",
      "=== 30 ===\n",
      "[ 0.30435459  0.69564541]\n",
      "[[-0.02544894  1.07067247]\n",
      " [ 4.98855477  3.90236296]]\n",
      "=== 40 ===\n",
      "[ 0.30507611  0.69492389]\n",
      "[[-0.02225813  1.07494779]\n",
      " [ 4.99235993  3.89135167]]\n",
      "=== 50 ===\n",
      "[ 0.30524673  0.69475327]\n",
      "[[-0.02150089  1.07596548]\n",
      " [ 4.99325871  3.88875649]]\n",
      "=== 60 ===\n",
      "[ 0.3052871  0.6947129]\n",
      "[[-0.02132156  1.07620666]\n",
      " [ 4.99347131  3.88814292]]\n",
      "=== 70 ===\n",
      "[ 0.30529665  0.69470335]\n",
      "[[-0.02127911  1.07626376]\n",
      " [ 4.99352162  3.88799774]]\n",
      "=== 80 ===\n",
      "[ 0.30529892  0.69470108]\n",
      "[[-0.02126907  1.07627727]\n",
      " [ 4.99353353  3.88796339]]\n",
      "=== 90 ===\n",
      "[ 0.30529945  0.69470055]\n",
      "[[-0.02126669  1.07628047]\n",
      " [ 4.99353635  3.88795526]]\n"
     ]
    }
   ],
   "source": [
    "# running the EM steps multiple times\n",
    "(p0,p1),((m0,s0),(m1,s1)) = expectation_maximization(data)"
   ]
  },
  {
   "cell_type": "code",
   "execution_count": 17,
   "id": "91981e60",
   "metadata": {
    "collapsed": false
   },
   "outputs": [
    {
     "name": "stdout",
     "output_type": "stream",
     "text": [
      "(0.30529957105536304, 0.6947004289446379)\n",
      "(-0.021266154871759004, 1.0762811900455098)\n",
      "(4.9935369813528254, 3.8879534250709256)\n"
     ]
    }
   ],
   "source": [
    "# final estimates\n",
    "print (p0,p1)\n",
    "print (m0,s0)\n",
    "print (m1,s1)\n",
    "\n"
   ]
  },
  {
   "cell_type": "markdown",
   "id": "5e2f0d33",
   "metadata": {},
   "source": [
    "Compare these to the original values:\n",
    "\n",
    "probabilities: 0.3 0.7\n",
    "\n",
    "parameters 1: $\\mu=0$, $\\sigma^2=1$\n",
    "\n",
    "parameters 2: $\\mu=5$, $\\sigma^2=4$\n",
    "\n",
    "So the estimates are pretty close to the true values.\n",
    "Of course, we cannot get exact values because the sample itself was\n",
    "random and finite."
   ]
  },
  {
   "cell_type": "code",
   "execution_count": 14,
   "id": "cdbf3c68",
   "metadata": {
    "collapsed": true
   },
   "outputs": [],
   "source": []
  }
 ],
 "metadata": {},
 "nbformat": 4,
 "nbformat_minor": 5
}

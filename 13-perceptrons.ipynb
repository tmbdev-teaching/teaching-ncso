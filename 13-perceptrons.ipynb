{
 "cells": [
  {
   "cell_type": "markdown",
   "id": "6532c5a0",
   "metadata": {},
   "source": [
    "Title: Perceptrons and Perceptron Learning Algorithm\n",
    "Author: Thomas Breuel\n",
    "Institution: UniKL"
   ]
  },
  {
   "cell_type": "code",
   "execution_count": 2,
   "id": "7db641ab",
   "metadata": {
    "collapsed": true
   },
   "outputs": [],
   "source": [
    "\n",
    "\n",
    "import scipy,pylab,numpy\n",
    "from numpy import *\n",
    "from scipy import *\n",
    "from pylab import *\n",
    "from urllib import urlopen\n",
    "from gzip import GzipFile\n",
    "from scipy.spatial import distance\n",
    "from scipy.spatial.distance import cdist"
   ]
  },
  {
   "cell_type": "markdown",
   "id": "0e4e7abf",
   "metadata": {},
   "source": [
    "Linear Classification Problem\n",
    "==============================\n",
    "\n",
    "Let's start by generating a simple linear classification problem.  That is, a problem in which the optimal decision boundary is known to be linear.  We're also generating a problem in which the samples are perfectly linearly separable.  This is the exception rather than the rule.\n",
    "\n",
    "In a Bayesian framework, this means that $P(\\omega|x)$ is either 0 or 1 for any $x$.\n",
    "\n",
    "\n"
   ]
  },
  {
   "cell_type": "code",
   "execution_count": 3,
   "id": "052479f7",
   "metadata": {
    "collapsed": false
   },
   "outputs": [
    {
     "data": {
      "text/plain": [
       "55"
      ]
     },
     "execution_count": 3,
     "metadata": {},
     "output_type": "execute_result"
    }
   ],
   "source": [
    "data = random_sample((100,2))\n",
    "labels = (data[:,0]*0.7+data[:,1]*0.4>0.5)\n",
    "sum(labels)"
   ]
  },
  {
   "cell_type": "code",
   "execution_count": 5,
   "id": "5b96bce9",
   "metadata": {
    "collapsed": false
   },
   "outputs": [
    {
     "name": "stdout",
     "output_type": "stream",
     "text": [
      "45 55\n"
     ]
    },
    {
     "data": {
      "image/png": "[encoded data removed]"
     },
     "metadata": {},
     "output_type": "display_data"
    }
   ],
   "source": [
    "# plotting the data points\n",
    "cla()\n",
    "d0 = data[labels==False]\n",
    "d1 = data[labels]\n",
    "plot(d0[:,0],d0[:,1],\"bo\")\n",
    "plot(d1[:,0],d1[:,1],\"ro\")\n",
    "savefig(\"tmp.png\")\n",
    "print len(d0),len(d1)\n",
    "\n"
   ]
  },
  {
   "cell_type": "markdown",
   "id": "5bba2915",
   "metadata": {},
   "source": [
    "If we are only given this data (but not the equation generating it), how can we recover the decision rule?"
   ]
  },
  {
   "cell_type": "markdown",
   "id": "88d333a4",
   "metadata": {},
   "source": [
    "We can visually read off the equation for the decision boundary.  It should run from (0.15,1.0) to about (0.7,0.0).\n",
    "\n"
   ]
  },
  {
   "cell_type": "code",
   "execution_count": 8,
   "id": "764e4b49",
   "metadata": {
    "collapsed": false
   },
   "outputs": [
    {
     "name": "stdout",
     "output_type": "stream",
     "text": [
      "43 57"
     ]
    },
    {
     "data": {
      "image/png": "[encoded data removed]"
     },
     "metadata": {},
     "output_type": "display_data"
    }
   ],
   "source": [
    "cla()\n",
    "d0 = data[labels==False]\n",
    "d1 = data[labels]\n",
    "xlim((0,1)); ylim((0,1))\n",
    "plot(d0[:,0],d0[:,1],\"bo\")\n",
    "plot(d1[:,0],d1[:,1],\"ro\")\n",
    "plot([0.15,0.72],[1.0,0.0],\"g\") # guess\n",
    "savefig(\"tmp.png\")\n",
    "print len(d0),len(d1)"
   ]
  },
  {
   "cell_type": "markdown",
   "id": "3a57893c",
   "metadata": {},
   "source": [
    "(Linear Decision Boundaries)\n",
    "\n",
    "Note that these decision boundaries are linear, by construction.  \n",
    "\n",
    "We have seen other problems with linear decision boundaries, namely the decision boundaries in some cases where the class conditional densities are normal and all the covariance matrices are equal.  \n",
    "\n",
    "However, in this case, the class conditional densities aren't normal at all, they are uniform densities over quadrilateral regions.\n",
    "\n",
    "Some problems involving Gaussian densities yield linear decision boundaries, but linear decision boundaries are optimal for many other problems.\n",
    "\n",
    "How do we find these decision boundaries automatically?"
   ]
  },
  {
   "cell_type": "markdown",
   "id": "c77f7a6b",
   "metadata": {},
   "source": [
    "(Decision Rules)\n",
    "\n",
    "A linear decision boundary is given by a formula of the form:\n",
    "\n",
    "$$a_1 x_1 + ... + a_n x_n = d$$\n",
    "\n",
    "We can write this as\n",
    "\n",
    "$$a \\cdot x = d $$\n",
    "\n",
    "With this, we classify as class 0:\n",
    "\n",
    "$$a \\cdot x \\lt d$$\n",
    "\n",
    "and as class 1:\n",
    "\n",
    "$$a \\cdot x \\geq d$$"
   ]
  },
  {
   "cell_type": "markdown",
   "id": "3b9ac9f0",
   "metadata": {},
   "source": [
    "(Augmented Vectors)\n",
    "\n",
    "However, it turns out to be inconvenient to have the $d$ in all our equations; we therefore turn this inhomogeneous problem into a homogeneous one by transforming the vectors.\n",
    "\n",
    "$$ x \\rightarrow (1,x) $$\n",
    "\n",
    "$$ a \\rightarrow (-d,x) $$\n",
    "\n",
    "Now we can write for our decision problem:\n",
    "\n",
    "$$ a \\cdot x \\lt 0$$\n",
    "\n",
    "and\n",
    "\n",
    "$$a \\cdot x \\geq 0$$\n",
    "\n",
    "Therefore, for any inhomogeneous linear decision problem, we can construct an equivalent homogeneous one by simply adding a column of 1's to the data vector"
   ]
  },
  {
   "cell_type": "markdown",
   "id": "a8c650eb",
   "metadata": {},
   "source": [
    "# The Perceptron Learning Algorithm"
   ]
  },
  {
   "cell_type": "markdown",
   "id": "17cad8be",
   "metadata": {},
   "source": [
    "(Perceptron Correction)\n",
    "\n",
    "We want $a \\cdot x > 0$ for all samples in class 1.  Now, assume that this isn't working for some sample $x$, $a \\cdot x \\lt 0$ even though it should be $> 0$.  How do we fix that?\n",
    "\n",
    "Actuall, the solution is fairly simple:\n",
    "\n",
    "- When $a \\cdot x < 0$ when it should be $> 0$, we add \"a little bit of $x$\" to $a$.  \n",
    "- That is, we update $a \\rightarrow a + \\epsilon x$.  \n",
    "Then, next time, $(a + \\epsilon x) \\cdot x = a \\cdot x + \\epsilon ||x||^2 > a \\cdot x$.\n",
    "- For the other case, we subtract a little bit of $x$."
   ]
  },
  {
   "cell_type": "markdown",
   "id": "ed28ef19",
   "metadata": {},
   "source": [
    "(Halfspace Learning)\n",
    "\n",
    "But notice that the two cases are symmetrical; instead of considering two classes, we can simplify the problem further by flipping the sign of all the samples in class $0$.  Then, we require for all samples in the transformed problem that $a \\cdot x > 0$ (remember that we also augmented the data vector).\n",
    "\n",
    "So, the perceptron learning algorithm is:\n",
    "\n",
    "- given input samples $\\{x_1,...,x_N\\} \\subseteq R^n$ and corresponding classifications $\\{c_1,...,c_N\\} \\subseteq \\{0,1\\}$, first replace all the $x_i$ with augmented vectors $x_i \\rightarrow (1,x_i)$\n",
    "- then, for every sample for which $c_i=0$, negate the corresponding $x_i$, that is $x_i \\rightarrow -x_i$\n",
    "- pick a random starting vector $a$\n",
    "- repeatedly iterate through the training samples $x_i$\n",
    "  - if $a \\cdot x_i > 0$ then continue\n",
    "  - otherwise update $a$ according to $a \\rightarrow a + \\epsilon x_i$\n",
    "  - stop if there are no more updates\n",
    "\n",
    "Actually, it turns out that we can just use $\\epsilon = 1$.\n",
    "\n",
    "Let's see whether this works."
   ]
  },
  {
   "cell_type": "code",
   "execution_count": 13,
   "id": "3d80c776",
   "metadata": {
    "collapsed": true
   },
   "outputs": [],
   "source": [
    "# augmenting the original vectors\n",
    "augmented = concatenate([ones((100,1)),data],axis=1)\n",
    "flipped = augmented.copy()\n",
    "flipped[labels==False] = -flipped[labels==False]"
   ]
  },
  {
   "cell_type": "code",
   "execution_count": 14,
   "id": "e602dbb2",
   "metadata": {
    "collapsed": false
   },
   "outputs": [
    {
     "data": {
      "text/plain": [
       "array([ 0.75842167,  0.94856581,  0.80291539])"
      ]
     },
     "execution_count": 14,
     "metadata": {},
     "output_type": "execute_result"
    }
   ],
   "source": [
    "# random initialization of weight vector\n",
    "a = random_sample((3))\n",
    "a"
   ]
  },
  {
   "cell_type": "code",
   "execution_count": 15,
   "id": "8b13c589",
   "metadata": {
    "collapsed": false
   },
   "outputs": [
    {
     "name": "stdout",
     "output_type": "stream",
     "text": [
      "(0, 27) (1, 17) (2, 16) (3, 4) (4, 14) (5, 13) (6, 6) (7, 2) (8, 4) (9, 12) (10, 14) (11, 9) (12, 4) (13, 4) (14, 10) (15, 14) (16, 6) (17, 4) (18, 5) (19, 4) (20, 10) (21, 12) (22, 8) (23, 6) (24, 4) (25, 5) (26, 4) (27, 4) (28, 4) (29, 6) (30, 10) (31, 10) (32, 6) (33, 6) (34, 4) (35, 4) (36, 4) (37, 6) (38, 5) (39, 4) (40, 4) (41, 0)\n"
     ]
    }
   ],
   "source": [
    "# perceptron learning\n",
    "for epoch in range(100):\n",
    "    nchanged = 0\n",
    "    for i in range(len(flipped)):\n",
    "        if dot(a,flipped[i])>0: continue\n",
    "        a += flipped[i]\n",
    "        nchanged += 1\n",
    "    print (epoch,nchanged),\n",
    "    if nchanged==0: break\n",
    "print"
   ]
  },
  {
   "cell_type": "code",
   "execution_count": 16,
   "id": "dd572cdf",
   "metadata": {
    "collapsed": false
   },
   "outputs": [
    {
     "name": "stdout",
     "output_type": "stream",
     "text": [
      "-8.24157833466 11.586087424 6.41877706797\n"
     ]
    }
   ],
   "source": [
    "# result of learning\n",
    "d,a0,a1 = a\n",
    "print d,a0,a1"
   ]
  },
  {
   "cell_type": "markdown",
   "id": "f0519a68",
   "metadata": {},
   "source": [
    "(reconstructing the linear equation)\n",
    "\n",
    "The linear equation is now:\n",
    "\n",
    "$$a_0 x + a_1 y + d = 0$$\n",
    "\n",
    "For $x=0$:\n",
    "\n",
    "$$y = -\\frac{d}{a_1}$$\n",
    "\n",
    "For $y=0$:\n",
    "\n",
    "$$x = -\\frac{d}{a_0}$$"
   ]
  },
  {
   "cell_type": "code",
   "execution_count": 17,
   "id": "2de454cb",
   "metadata": {
    "collapsed": false
   },
   "outputs": [
    {
     "name": "stdout",
     "output_type": "stream",
     "text": [
      "45 55\n"
     ]
    },
    {
     "data": {
      "image/png": "[encoded data removed]"
     },
     "metadata": {},
     "output_type": "display_data"
    }
   ],
   "source": [
    "# plotting the learned decision boundary\n",
    "cla()\n",
    "d0 = data[labels==False]\n",
    "d1 = data[labels]\n",
    "xlim((0,1)); ylim((0,1))\n",
    "plot(d0[:,0],d0[:,1],\"bo\")\n",
    "plot(d1[:,0],d1[:,1],\"ro\")\n",
    "plot([0,-d/a0],[-d/a1,0],\"g\")\n",
    "savefig(\"tmp.png\")\n",
    "print len(d0),len(d1)"
   ]
  },
  {
   "cell_type": "markdown",
   "id": "e86e70bd",
   "metadata": {},
   "source": [
    "(Open Questions)\n",
    "\n",
    "That has worked rather well, but it leaves open a number of questions:a\n",
    "\n",
    "- Is the algorithm guaranteed to stop?\n",
    "- How do we deal with more than two classes?\n",
    "- What is the error rate?\n",
    "- How does it relate to the c.c.d. $p(x|c)$?\n",
    "- What happens when the data isn't linearly separable?\n",
    "- It's fairly easy to show that the algorithm converges if the data is linearly separable. "
   ]
  },
  {
   "cell_type": "markdown",
   "id": "7ce42919",
   "metadata": {},
   "source": [
    "# Criterion Functions"
   ]
  },
  {
   "cell_type": "markdown",
   "id": "8ec59845",
   "metadata": {},
   "source": [
    "(Separating Plane via Criterion Function)\n",
    "\n",
    "Let's say we know the data is separable and we want to find a weight vector that separates the samples.  We can do this by defining an objective function $J(w)$ and then minimizing $J(w)$."
   ]
  },
  {
   "cell_type": "markdown",
   "id": "fb0eb565",
   "metadata": {},
   "source": [
    "(Minimum Error Criterion Function)\n",
    "\n",
    "The obvious objective function to use is $J(w) = \\hbox{# misclassified samples}$.  That function is zero when $w$ separates the two classes, and positive otherwise.  Unfortunately, that is a stepwise constant function, which is hard to optimize."
   ]
  },
  {
   "cell_type": "markdown",
   "id": "107c5dff",
   "metadata": {},
   "source": [
    "(Perceptron Criterion Function)\n",
    "\n",
    "\n",
    "A better function is to sum up the total amount by which samples on the wrong side of the decision boundary are misclassified.  This is zero when the data is separated, but positive if any samples are misclassified.  In formulas:\n",
    "\n",
    "$$J_p(w) = \\sum_{i\\in{\\cal E}_w} -w\\cdot x_i$$\n",
    "\n",
    "where\n",
    "\n",
    "$${\\cal E}_w = \\\\{ i | w \\cdot x \\lt 0\\\\}$$\n",
    "\n"
   ]
  },
  {
   "cell_type": "markdown",
   "id": "3a7e3801",
   "metadata": {},
   "source": [
    "(Gradient Descent)\n",
    "\n",
    "We can optimize this function by gradient descent.  That is, we iteratively update the weight vector $w$ by adding a small multiple of the negative of the gradient $\\nabla J_p(w)$ to it.  What is the gradient?\n",
    "\n",
    "$$\\nabla J_p(w) = \\nabla \\sum_{i\\in{\\cal E}_w} -w\\cdot x_i = \\sum_{i\\in{\\cal E}_w} -x_i$$\n",
    "\n",
    "Therefore, our update rule becomes:\n",
    "\n",
    "$$ w \\leftarrow w + \\eta \\sum_{i\\in{\\cal E}_w} x_i$$"
   ]
  },
  {
   "cell_type": "markdown",
   "id": "e10ef3a5",
   "metadata": {},
   "source": [
    "(Batch vs Sample Correction)\n",
    "\n",
    "This is a batch update rule; that is, we add up all the gradients for each misclassified samples, and only then update the total weight vector. That is inefficient and turns out to be unnecessary in this case anyway.\n",
    "\n",
    "A stochastic gradient descent rule updates after every misclassified sample via\n",
    "\n",
    "$$ w \\leftarrow w + \\eta x_i $$\n",
    "\n",
    "In the case of perceptron learning, this is also called the single sample correction algorithm."
   ]
  },
  {
   "cell_type": "markdown",
   "id": "e1e2eded",
   "metadata": {},
   "source": [
    "# Proof of Convergence"
   ]
  },
  {
   "cell_type": "markdown",
   "id": "b73d9a63",
   "metadata": {},
   "source": [
    "Let's consider a particularly simple case for the single sample correction perceptron learning algorithm: the case where $\\eta = 1$.  \n",
    "\n",
    "Proving convergence for that case shows that for any separable learning problem, there exists a known sequence of $\\eta$ (namely all 1s) that make perceptron learning converge.  We also assume that the training vectors are linearly independent."
   ]
  },
  {
   "cell_type": "markdown",
   "id": "9bdab11a",
   "metadata": {},
   "source": [
    "Assume that we're updating the weight vector in a sequence of updates; we number the updates as $\\tau=1,2,...$ (we don't need to worry about the vectors that are classified correctly).  Let $\\hat{w}$ be a solution vector.  Consider now the distance of $w(\\tau+1)$ from some multiple of the solution vector (any such multiple is itself a solution):\n",
    "\n",
    "$$w(\\tau+1) - \\alpha \\hat{w} = (w(\\tau)-\\alpha \\hat{w}) + x_\\tau$$"
   ]
  },
  {
   "cell_type": "markdown",
   "id": "b97f7a3c",
   "metadata": {},
   "source": [
    "Now square both sides:\n",
    "\n",
    "$$||w(\\tau+1) - \\alpha \\hat{w}||^2 = ||(w(\\tau)-\\alpha \\hat{w}) + x_\\tau||^2 = ||w(\\tau)-\\alpha \\hat{w}||^2 - 2(w(\\tau)-\\alpha\\hat{w})\\cdot x_\\tau+||x_\\tau^2||$$\n",
    "\n",
    "$$ = ||w(\\tau)-\\alpha \\hat{w}||^2 - 2 w(\\tau)\\cdot x_\\tau - 2 \\alpha\\hat{w} \\cdot x_\\tau + ||x_\\tau^2||$$\n",
    "\n",
    "We know that $w(\\tau) \\cdot x_\\tau \\lt 0$ because it was misclassified, so\n",
    "\n",
    "$$||w(\\tau+1) - \\alpha \\hat{w}||^2 \\leq ||w(\\tau)-\\alpha \\hat{w}||^2 - 2 \\alpha\\hat{w} \\cdot x_\\tau + ||x_\\tau^2||$$"
   ]
  },
  {
   "cell_type": "markdown",
   "id": "964e2f78",
   "metadata": {},
   "source": [
    "We also know that $\\hat{w}\\cdot x_\\tau>0$ (because $\\hat{w}$) is a solution.  \n",
    "\n",
    "So, we can choose some $\\alpha$ such that we get a provable reduction in the distance of the weight vector from the true vector.  To choose that, let's bound $||x_\\tau^2|| and $\\hat{w}\\cdot x_\\tau$ above and below, respectively.\n",
    "\n",
    "$$ \\beta^2 = \\max_i ||x_i||^2$$\n",
    "\n",
    "$$ \\gamma = \\min_i \\hat{w} \\cdot x_i $$\n",
    "\n",
    "(This is greater than zero for all vectors.)"
   ]
  },
  {
   "cell_type": "markdown",
   "id": "98e091a0",
   "metadata": {},
   "source": [
    "Now:\n",
    "\n",
    "$$||w(\\tau+1f) - \\alpha \\hat{w}||^2 \\leq ||w(\\tau)-\\alpha \\hat{w}||^2 - 2 \\alpha\\gamma + \\beta^2$$\n",
    "\n",
    "If we choose $\\alpha = \\frac{\\beta^2}{\\gamma}$, then\n",
    "\n",
    "$$||w(\\tau+1) - \\alpha \\hat{w}||^2 \\leq ||w(\\tau)-\\alpha \\hat{w}||^2 - \\beta^2$$"
   ]
  },
  {
   "cell_type": "markdown",
   "id": "a50e45ce",
   "metadata": {},
   "source": [
    "This means that after $k$ steps, we have a reduction by $k\\beta^2$ in the error.  Since the distance can't become negative, we have a bound on the number of corrections of:\n",
    "\n",
    "$$\\hat{k} = \\frac{||w(1) - \\alpha \\hat{w}||^2}{\\beta^2}$$\n",
    "\n",
    "Let's pick $w(1)=0$, then we get:\n",
    "\n",
    "$$\\hat{k} = \\frac{\\alpha^2 ||\\hat{w}||^2}{\\beta^2} = \\frac{\\beta^2 ||\\hat{w}||}{\\gamma^2} = \\frac{\\max_i ||x_i||^2 ||\\hat{w}||^2}{(\\min_i \\hat{w}\\cdot x_i)^2}$$"
   ]
  },
  {
   "cell_type": "markdown",
   "id": "9424b5cd",
   "metadata": {},
   "source": [
    "Non-Separable Case\n",
    "===================\n",
    "\n",
    "If classes are not separable, things get more difficult.  In fact, it's not even clear what kind of solution we are looking for in that case.\n",
    "\n",
    "The most obvious solution we might want, the solution that has the minimum number of samples \"on the wrong side\" of the decision boundary is computationally hard to find.\n",
    "\n",
    "There are, however, other kinds of criteria we might apply:\n",
    "\n",
    "- Minimize the perceptron criterion function.\n",
    "- Find a good \"least square approximation\", that is, try to minimize $\\sum_i |a\\cdot x_i - c_i|^2$ (note that we cannot use the sign flip in this case).\n",
    "- Find a good \"least square approximation\", for some other objective function, as in $\\sum_i f(a \\cdot x_i - c_i)$ (note that we cannot use the sign flip in this case).\n",
    "\n",
    "Multi-Class Case\n",
    "=================\n",
    "\n",
    "There are several different approaches we can take to the multiclass case:\n",
    "\n",
    "- We can transform the classification problem into $n$ 1-vs-rest problems; then, we get $n$ linear functions $g_c(x) = a_c \\cdot x$.  We can treat these functions as discriminant functions and use the decision rule $D(x) = \\arg\\max_c g_c(x) = \\arg\\max_i a_i \\cdot x$.\n",
    "- We can train $n \\choose 2$ different dichotomies for classes.  These dichotomies are not going to be entirely consistent, but we can treat them as a corrupted binary vector of the true dichotomies and perform \"error correction\".\n",
    "- We can encode the the $n \\choose 2$ dichotomies in a single binary classification problem via Kessler's construction.  That is, let $a = (a_1,...,a_M)$.  we write down for each input vector $x_i$ a series of outputs of different classification problems (Kessler's construction.  This is another way of expressing the previous approach.\n",
    "- We can consider the classifier as a map from $R^n \\rightarrow \\{0,1\\}^M$, where the output vectors are binary vectors of the special form $y_i = (\\delta_{1,c_i},...,\\delta_{M,c_i})$ (i.e., all zero except for a 1 in position $c$).  Then, we minimize $e = \\sum_i |A \\cdot x_i - y_i|^2$.\n",
    "- We can consider any sufficiently large and complete collection of binary classifiers on the original data (these might include training, say, {8,9,0} vs the rest); this collection then gives us as output a binary vector of classification results.  Instead of trying to write rules manually for mapping these binary vectors into output classes, we can simply use them as input vectors for another classifier.  This is called stacking of classifiers."
   ]
  },
  {
   "cell_type": "code",
   "execution_count": null,
   "id": "756215e7",
   "metadata": {
    "collapsed": true
   },
   "outputs": [],
   "source": []
  }
 ],
 "metadata": {},
 "nbformat": 4,
 "nbformat_minor": 5
}

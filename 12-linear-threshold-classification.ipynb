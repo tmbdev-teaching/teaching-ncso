{
 "cells": [
  {
   "cell_type": "markdown",
   "id": "a41f4251",
   "metadata": {},
   "source": [
    "Title: Linear Threshold Units\n",
    "Author: Thomas M. Breuel\n",
    "Institution: UniKL"
   ]
  },
  {
   "cell_type": "code",
   "execution_count": 267,
   "id": "9a2d1fb1",
   "metadata": {
    "collapsed": false
   },
   "outputs": [],
   "source": [
    "\n",
    "from pylab import *\n",
    "from IPython.core.display import Image \n",
    "def fig(x): return Image(filename=\"Figures/\"+x+\".png\") \n",
    "from pylab import *\n",
    "def figs(*args):\n",
    "    for i,f in enumerate(args):\n",
    "        subplot(1,len(args),i+1)\n",
    "        axis(\"off\")\n",
    "        fig = imshow(imread(\"Figures/\"+f+\".png\"))\n",
    "        \n",
    "from scipy import linalg"
   ]
  },
  {
   "cell_type": "markdown",
   "id": "8439c6fc",
   "metadata": {},
   "source": [
    "# Neurons as Linear Decision Makers"
   ]
  },
  {
   "cell_type": "markdown",
   "id": "a8894a4f",
   "metadata": {},
   "source": [
    "Before embarking in more detail on learning algorithms, let's take a general look at neurons as classifiers or decision makers."
   ]
  },
  {
   "cell_type": "markdown",
   "id": "9df6090d",
   "metadata": {},
   "source": [
    "(McCulloch-Pitts Neurons)\n",
    "\n",
    "Recall that we arrived at the McCulloch-Pitts model as a simplified model of the computation performed by neurons.\n",
    "\n",
    "Component-wise notation:\n",
    "\n",
    "$$ y_k = \\phi(\\sum_{j=1}^m w_{kj}x_j+x_0) $$\n",
    "\n",
    "Matrix notation:\n",
    "\n",
    "$$ y = \\phi(W \\cdot x + x_0) $$"
   ]
  },
  {
   "cell_type": "markdown",
   "id": "2c0d28ca",
   "metadata": {},
   "source": [
    "(Linear Decisions)\n",
    "\n",
    "For many kinds of problems, linear decision rules are common, and these map well onto McCulloch-Pitts neurons.\n",
    "\n",
    "That is, rules of the form: accept if $x_1 + 0.7 x_2 \\leq 1.1$ .\n",
    "\n",
    "The reason is that a lot of decision rules are really rules based on costs, and costs are of the form $\\hbox{quantity} \\times \\hbox{unit cost}$.\n"
   ]
  },
  {
   "cell_type": "markdown",
   "id": "405c2e3b",
   "metadata": {},
   "source": [
    "(Perceptrons)\n",
    "\n",
    "Here is an example of this.\n",
    "\n",
    "The _decision rule_ is \n",
    "\n",
    "$$D(x) = \\left\\lfloor {1 \\choose 0.7} \\cdot {x_1 \\choose x_2} \\leq 1.1 \\right\\rfloor$$\n",
    "\n",
    "This is obviously the same form as for a McCulloch-Pitts neuron with a Heaviside function as the nonlinearity.\n",
    "\n",
    "These kinds of linear decision units are called _perceptrons_.\n"
   ]
  },
  {
   "cell_type": "code",
   "execution_count": 284,
   "id": "36a8083e",
   "metadata": {
    "collapsed": false
   },
   "outputs": [
    {
     "data": {
      "text/plain": [
       "[<matplotlib.lines.Line2D at 0x1021a190>]"
      ]
     },
     "execution_count": 284,
     "metadata": {},
     "output_type": "execute_result"
    },
    {
     "data": {
      "image/png": "[encoded data removed]"
     },
     "metadata": {},
     "output_type": "display_data"
    }
   ],
   "source": [
    "\n",
    "xs = rand(100,2)\n",
    "ys = 1*(xs[:,0]+0.7*xs[:,1]>1.1)\n",
    "plot(xs[ys==0,0],xs[ys==0,1],'b.')\n",
    "plot(xs[ys==1,0],xs[ys==1,1],'r.')\n",
    "plot([0,1.1/0.7],[1.1,0],color='green')"
   ]
  },
  {
   "cell_type": "markdown",
   "id": "dd536103",
   "metadata": {},
   "source": [
    "# Linear Threshold Units as Measures of Similarity"
   ]
  },
  {
   "cell_type": "markdown",
   "id": "557acd3b",
   "metadata": {},
   "source": [
    "(linear threshold units as measures of similarity)\n",
    "\n",
    "Assume both inputs and weights are normalized.\n",
    "\n",
    "$$ ||w||=1, ||x||=1 $$\n",
    "\n",
    "The dot product becomes the cosine of the angle, the _cosine similarity_ between the vectors $w$ and $x$:\n",
    "\n",
    "$$ y_l = w\\cdot x = cos \\angle(w,x) $$\n",
    "\n",
    "Alternatively, we also get a relation to the Euclidean distance:\n",
    "\n",
    "$$ ||w-x||^2 = w^2 - 2w\\cdot x + x^2 = 2-2w\\cdot x $$"
   ]
  },
  {
   "cell_type": "markdown",
   "id": "a5c0748a",
   "metadata": {},
   "source": [
    "(pattern recognition)\n",
    "\n",
    "Perceptrons therefore detect pattern as follows:\n",
    "\n",
    "- store normalized target patterns in the weights $w$ of each neuron\n",
    "- normalize the input vectors $x$\n",
    "- an output value above some threshold indicates that the pattern is likely present\n",
    "\n",
    "This is implicitly the basis of much of machine learning, and it explains why perceptrons and \"neural networks\" with McCulloch-Pitts neurons are so successful."
   ]
  }
 ],
 "metadata": {},
 "nbformat": 4,
 "nbformat_minor": 5
}
